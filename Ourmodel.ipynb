{
 "cells": [
  {
   "cell_type": "code",
   "execution_count": 1,
   "metadata": {},
   "outputs": [
    {
     "name": "stderr",
     "output_type": "stream",
     "text": [
      "/home/chenxi/.conda/envs/myen/lib/python3.10/site-packages/IPython/core/interactiveshell.py:3508: DtypeWarning: Columns (2) have mixed types.Specify dtype option on import or set low_memory=False.\n",
      "  exec(code_obj, self.user_global_ns, self.user_ns)\n",
      "/tmp/ipykernel_554409/3517923633.py:34: SettingWithCopyWarning: \n",
      "A value is trying to be set on a copy of a slice from a DataFrame.\n",
      "Try using .loc[row_indexer,col_indexer] = value instead\n",
      "\n",
      "See the caveats in the documentation: https://pandas.pydata.org/pandas-docs/stable/user_guide/indexing.html#returning-a-view-versus-a-copy\n",
      "  X['champion'] = LabelEncoder().fit_transform(X['champion'].astype(str))\n"
     ]
    },
    {
     "name": "stdout",
     "output_type": "stream",
     "text": [
      "Random Forest RMSE: 0.4607419663507044\n",
      "Random Forest R^2: 0.6848343508621028\n",
      "Random Forest MAE: 0.14520061213141475\n",
      "Random Forest Explained Variance: 0.6848659890597746\n"
     ]
    },
    {
     "name": "stderr",
     "output_type": "stream",
     "text": [
      "/home/chenxi/.conda/envs/myen/lib/python3.10/site-packages/sklearn/metrics/_regression.py:483: FutureWarning: 'squared' is deprecated in version 1.4 and will be removed in 1.6. To calculate the root mean squared error, use the function'root_mean_squared_error'.\n",
      "  warnings.warn(\n"
     ]
    }
   ],
   "source": [
    "import pandas as pd\n",
    "import numpy as np\n",
    "from sklearn.preprocessing import OneHotEncoder, LabelEncoder\n",
    "from sklearn.compose import ColumnTransformer\n",
    "from sklearn.pipeline import Pipeline\n",
    "from sklearn.linear_model import LinearRegression\n",
    "from sklearn.ensemble import RandomForestRegressor\n",
    "from sklearn.metrics import mean_squared_error, r2_score, mean_absolute_error, explained_variance_score\n",
    "from sklearn.model_selection import train_test_split, cross_val_score, GridSearchCV\n",
    "from sklearn.impute import SimpleImputer\n",
    "\n",
    "# Load the dataset\n",
    "file_path = '/home/chenxi/data/2023_LoL_esports_match_data_from_OraclesElixir.csv'\n",
    "data = pd.read_csv(file_path)\n",
    "\n",
    "# Impute missing values for specified features with zeros\n",
    "features_to_impute = ['killsat15', 'assistsat15', 'csat15', 'goldat15', 'xpat15', 'total cs']\n",
    "data[features_to_impute] = data[features_to_impute].fillna(0)\n",
    "\n",
    "# Recalculate 'impact_score' to ensure it's consistent\n",
    "data['impact_score'] = np.log1p(data['kills']) + np.log1p(data['assists']) + np.log1p(data['total cs'] * 0.1) + np.log1p(data['towers'] * 0.5) + np.log1p(data['dragons'] * 0.2)\n",
    "data['impact_score'] = data['impact_score'].fillna(data['impact_score'].median())\n",
    "\n",
    "# Feature Engineering\n",
    "data['early_game_efficiency'] = data['killsat15'] + data['assistsat15'] + 0.1 * data['csat15']\n",
    "data['gold_xp_ratio_at15'] = data['goldat15'] / (data['xpat15'] + 1)  # Avoid division by zero\n",
    "\n",
    "# Prepare features and target variable\n",
    "features = ['champion', 'killsat15', 'assistsat15', 'csat15', 'goldat15', 'xpat15', 'damagetochampions', 'early_game_efficiency', 'gold_xp_ratio_at15']\n",
    "X = data[features]\n",
    "y = data['impact_score']\n",
    "\n",
    "# Encode 'champion' categorical feature\n",
    "X['champion'] = LabelEncoder().fit_transform(X['champion'].astype(str))\n",
    "\n",
    "# Define preprocessing for numeric and categorical features\n",
    "numeric_features = ['killsat15', 'assistsat15', 'csat15', 'goldat15', 'xpat15', 'damagetochampions', 'early_game_efficiency', 'gold_xp_ratio_at15']\n",
    "categorical_features = ['champion']\n",
    "\n",
    "numeric_transformer = SimpleImputer(strategy='mean')\n",
    "categorical_transformer = Pipeline(steps=[\n",
    "    ('imputer', SimpleImputer(strategy='most_frequent')),\n",
    "    ('encoder', OneHotEncoder(handle_unknown='ignore'))\n",
    "])\n",
    "\n",
    "preprocessor = ColumnTransformer(\n",
    "    transformers=[\n",
    "        ('num', numeric_transformer, numeric_features),\n",
    "        ('cat', categorical_transformer, categorical_features)\n",
    "    ])\n",
    "\n",
    "# Define the model pipeline\n",
    "rf_pipeline = Pipeline([\n",
    "    ('preprocessor', preprocessor),\n",
    "    ('regressor', RandomForestRegressor(random_state=42))\n",
    "])\n",
    "\n",
    "# Split the data\n",
    "X_train, X_test, y_train, y_test = train_test_split(X, y, test_size=0.2, random_state=42)\n",
    "\n",
    "# Hyperparameter tuning for RandomForestRegressor (example)\n",
    "param_grid = {\n",
    "    'regressor__n_estimators': [100, 200],\n",
    "    'regressor__max_depth': [None, 10, 20],\n",
    "    'regressor__min_samples_leaf': [1, 2, 4],\n",
    "    'regressor__min_samples_split': [2, 5, 10]\n",
    "}\n",
    "\n",
    "grid_search = GridSearchCV(rf_pipeline, param_grid, cv=5, scoring='neg_mean_squared_error', n_jobs=-1)\n",
    "grid_search.fit(X_train, y_train)\n",
    "\n",
    "# Best model evaluation\n",
    "best_rf = grid_search.best_estimator_\n",
    "predictions = best_rf.predict(X_test)\n",
    "\n",
    "rmse = mean_squared_error(y_test, predictions, squared=False)\n",
    "r2 = r2_score(y_test, predictions)\n",
    "mae = mean_absolute_error(y_test, predictions)\n",
    "ev = explained_variance_score(y_test, predictions)\n",
    "\n",
    "print(f\"Random Forest RMSE: {rmse}\")\n",
    "print(f\"Random Forest R^2: {r2}\")\n",
    "print(f\"Random Forest MAE: {mae}\")\n",
    "print(f\"Random Forest Explained Variance: {ev}\")"
   ]
  },
  {
   "cell_type": "code",
   "execution_count": 2,
   "metadata": {},
   "outputs": [
    {
     "name": "stdout",
     "output_type": "stream",
     "text": [
      "Linear Regression RMSE: 0.6243799281715618\n",
      "XGBoost RMSE: 0.46819779004008183\n"
     ]
    },
    {
     "name": "stderr",
     "output_type": "stream",
     "text": [
      "/home/chenxi/.conda/envs/myen/lib/python3.10/site-packages/sklearn/metrics/_regression.py:483: FutureWarning: 'squared' is deprecated in version 1.4 and will be removed in 1.6. To calculate the root mean squared error, use the function'root_mean_squared_error'.\n",
      "  warnings.warn(\n",
      "/home/chenxi/.conda/envs/myen/lib/python3.10/site-packages/sklearn/metrics/_regression.py:483: FutureWarning: 'squared' is deprecated in version 1.4 and will be removed in 1.6. To calculate the root mean squared error, use the function'root_mean_squared_error'.\n",
      "  warnings.warn(\n"
     ]
    }
   ],
   "source": [
    "\n",
    "from sklearn.linear_model import LinearRegression\n",
    "from xgboost import XGBRegressor\n",
    "\n",
    "X_train, X_test, y_train, y_test = train_test_split(X, y, test_size=0.2, random_state=42)\n",
    "\n",
    "# Define and train the Linear Regression model\n",
    "lr_model = Pipeline([\n",
    "    ('preprocessor', preprocessor),\n",
    "    ('regressor', LinearRegression())\n",
    "])\n",
    "lr_model.fit(X_train, y_train)\n",
    "\n",
    "# Define and train the XGBoost model\n",
    "xgb_model = Pipeline([\n",
    "    ('preprocessor', preprocessor),\n",
    "    ('regressor', XGBRegressor(objective='reg:squarederror', random_state=42))\n",
    "])\n",
    "xgb_model.fit(X_train, y_train)\n",
    "\n",
    "# Predict and evaluate Linear Regression model\n",
    "lr_predictions = lr_model.predict(X_test)\n",
    "print(\"Linear Regression RMSE:\", mean_squared_error(y_test, lr_predictions, squared=False))\n",
    "\n",
    "# Predict and evaluate XGBoost model\n",
    "xgb_predictions = xgb_model.predict(X_test)\n",
    "print(\"XGBoost RMSE:\", mean_squared_error(y_test, xgb_predictions, squared=False))\n"
   ]
  }
 ],
 "metadata": {
  "kernelspec": {
   "display_name": "myen",
   "language": "python",
   "name": "python3"
  },
  "language_info": {
   "codemirror_mode": {
    "name": "ipython",
    "version": 3
   },
   "file_extension": ".py",
   "mimetype": "text/x-python",
   "name": "python",
   "nbconvert_exporter": "python",
   "pygments_lexer": "ipython3",
   "version": "3.10.12"
  }
 },
 "nbformat": 4,
 "nbformat_minor": 2
}
