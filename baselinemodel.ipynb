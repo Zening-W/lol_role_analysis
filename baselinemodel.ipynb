{
 "cells": [
  {
   "cell_type": "markdown",
   "metadata": {},
   "source": [
    "baseline"
   ]
  },
  {
   "cell_type": "code",
   "execution_count": 2,
   "metadata": {},
   "outputs": [
    {
     "name": "stderr",
     "output_type": "stream",
     "text": [
      "/home/chenxi/.conda/envs/myen/lib/python3.10/site-packages/IPython/core/interactiveshell.py:3508: DtypeWarning: Columns (2) have mixed types.Specify dtype option on import or set low_memory=False.\n",
      "  exec(code_obj, self.user_global_ns, self.user_ns)\n",
      "/tmp/ipykernel_550614/2042864586.py:29: SettingWithCopyWarning: \n",
      "A value is trying to be set on a copy of a slice from a DataFrame.\n",
      "Try using .loc[row_indexer,col_indexer] = value instead\n",
      "\n",
      "See the caveats in the documentation: https://pandas.pydata.org/pandas-docs/stable/user_guide/indexing.html#returning-a-view-versus-a-copy\n",
      "  X['champion'] = LabelEncoder().fit_transform(X['champion'])\n"
     ]
    },
    {
     "name": "stdout",
     "output_type": "stream",
     "text": [
      "Linear Regression Cross-Val MSE:  0.9993214652764525\n",
      "Random Forest Cross-Val MSE:  0.7586001544065702\n",
      "Linear Regression RMSE: 1.0052768152091325\n",
      "Random Forest RMSE: 0.8764818836949111\n",
      "Linear Regression R^2: 0.6423159290059994\n",
      "Random Forest R^2: 0.7280969027209707\n",
      "Linear Regression MAE: 0.7964395437352974\n",
      "Random Forest MAE: 0.673471572200837\n",
      "Linear Regression Explained Variance: 0.6423296407899508\n",
      "Random Forest Explained Variance: 0.7281010067982794\n"
     ]
    },
    {
     "name": "stderr",
     "output_type": "stream",
     "text": [
      "/home/chenxi/.conda/envs/myen/lib/python3.10/site-packages/sklearn/metrics/_regression.py:483: FutureWarning: 'squared' is deprecated in version 1.4 and will be removed in 1.6. To calculate the root mean squared error, use the function'root_mean_squared_error'.\n",
      "  warnings.warn(\n",
      "/home/chenxi/.conda/envs/myen/lib/python3.10/site-packages/sklearn/metrics/_regression.py:483: FutureWarning: 'squared' is deprecated in version 1.4 and will be removed in 1.6. To calculate the root mean squared error, use the function'root_mean_squared_error'.\n",
      "  warnings.warn(\n"
     ]
    },
    {
     "data": {
      "image/png": "[encoded data removed]",
      "text/plain": [
       "<Figure size 640x480 with 1 Axes>"
      ]
     },
     "metadata": {},
     "output_type": "display_data"
    }
   ],
   "source": [
    "import pandas as pd\n",
    "import numpy as np\n",
    "from sklearn.preprocessing import OneHotEncoder, LabelEncoder\n",
    "from sklearn.compose import ColumnTransformer\n",
    "from sklearn.pipeline import Pipeline\n",
    "from sklearn.linear_model import LinearRegression\n",
    "from sklearn.ensemble import RandomForestRegressor\n",
    "from sklearn.metrics import mean_squared_error, r2_score, mean_absolute_error, explained_variance_score\n",
    "from sklearn.model_selection import train_test_split, cross_val_score\n",
    "from sklearn.impute import SimpleImputer\n",
    "\n",
    "# Load the dataset\n",
    "file_path = '/home/chenxi/data/2023_LoL_esports_match_data_from_OraclesElixir.csv'\n",
    "data = pd.read_csv(file_path)\n",
    "\n",
    "columns_to_fix = ['kills', 'assists', 'total cs', 'towers', 'dragons']\n",
    "data[columns_to_fix] = data[columns_to_fix].fillna(0)\n",
    "data['impact_score'] = np.log1p(data['kills']) + np.log1p(data['assists']) + np.log1p(data['total cs'] * 0.1) + np.log1p(data['towers'] * 0.5) + np.log1p(data['dragons'] * 0.2)\n",
    "target_col = 'impact_score'\n",
    "data['impact_score'].describe(), data['impact_score'].hist()\n",
    "# Prepare features\n",
    "features = ['champion', 'killsat15', 'assistsat15', 'csat15', 'goldat15', 'xpat15', 'damagetochampions']\n",
    "\n",
    "X = data[features]\n",
    "y = data[target_col]\n",
    "\n",
    "y.fillna(y.median(), inplace=True)\n",
    "# Encode categorical feature\n",
    "X['champion'] = LabelEncoder().fit_transform(X['champion'])\n",
    "\n",
    "numeric_features = ['killsat15', 'assistsat15', 'csat15', 'goldat15', 'xpat15', 'damagetochampions']\n",
    "categorical_features = ['champion']\n",
    "\n",
    "numeric_transformer = SimpleImputer(strategy='mean')\n",
    "categorical_transformer = Pipeline(steps=[\n",
    "    ('imputer', SimpleImputer(strategy='most_frequent')),\n",
    "    ('encoder', OneHotEncoder(handle_unknown='ignore'))\n",
    "])\n",
    "\n",
    "preprocessor = ColumnTransformer(\n",
    "    transformers=[\n",
    "        ('num', numeric_transformer, numeric_features),\n",
    "        ('cat', categorical_transformer, categorical_features)\n",
    "    ])\n",
    "\n",
    "# Define the models with pipelines\n",
    "lr_pipeline = Pipeline([\n",
    "    ('preprocessor', preprocessor),\n",
    "    ('regressor', LinearRegression())\n",
    "])\n",
    "\n",
    "rf_pipeline = Pipeline([\n",
    "    ('preprocessor', preprocessor),\n",
    "    ('regressor', RandomForestRegressor(random_state=42, n_jobs=-1))\n",
    "])\n",
    "\n",
    "# Split the data\n",
    "X_train, X_test, y_train, y_test = train_test_split(X, y, test_size=0.2, random_state=42)\n",
    "\n",
    "# Train the models with cross-validation\n",
    "lr_scores = cross_val_score(lr_pipeline, X_train, y_train, cv=5, scoring='neg_mean_squared_error', n_jobs=-1)\n",
    "rf_scores = cross_val_score(rf_pipeline, X_train, y_train, cv=5, scoring='neg_mean_squared_error', n_jobs=-1)\n",
    "\n",
    "print(\"Linear Regression Cross-Val MSE: \", -lr_scores.mean())\n",
    "print(\"Random Forest Cross-Val MSE: \", -rf_scores.mean())\n",
    "\n",
    "# Fit the models on the entire training set\n",
    "lr_pipeline.fit(X_train, y_train)\n",
    "rf_pipeline.fit(X_train, y_train)\n",
    "\n",
    "# Make predictions\n",
    "lr_predictions = lr_pipeline.predict(X_test)\n",
    "rf_predictions = rf_pipeline.predict(X_test)\n",
    "\n",
    "# Evaluate the models\n",
    "lr_rmse = mean_squared_error(y_test, lr_predictions, squared=False)\n",
    "rf_rmse = mean_squared_error(y_test, rf_predictions, squared=False)\n",
    "lr_r2 = r2_score(y_test, lr_predictions)\n",
    "rf_r2 = r2_score(y_test, rf_predictions)\n",
    "lr_mae = mean_absolute_error(y_test, lr_predictions)\n",
    "rf_mae = mean_absolute_error(y_test, rf_predictions)\n",
    "lr_ev = explained_variance_score(y_test, lr_predictions)\n",
    "rf_ev = explained_variance_score(y_test, rf_predictions)\n",
    "\n",
    "print(\"Linear Regression RMSE:\", lr_rmse)\n",
    "print(\"Random Forest RMSE:\", rf_rmse)\n",
    "print(\"Linear Regression R^2:\", lr_r2)\n",
    "print(\"Random Forest R^2:\", rf_r2)\n",
    "print(\"Linear Regression MAE:\", lr_mae)\n",
    "print(\"Random Forest MAE:\", rf_mae)\n",
    "print(\"Linear Regression Explained Variance:\", lr_ev)\n",
    "print(\"Random Forest Explained Variance:\", rf_ev)"
   ]
  }
 ],
 "metadata": {
  "kernelspec": {
   "display_name": "myen",
   "language": "python",
   "name": "python3"
  },
  "language_info": {
   "codemirror_mode": {
    "name": "ipython",
    "version": 3
   },
   "file_extension": ".py",
   "mimetype": "text/x-python",
   "name": "python",
   "nbconvert_exporter": "python",
   "pygments_lexer": "ipython3",
   "version": "3.10.12"
  }
 },
 "nbformat": 4,
 "nbformat_minor": 2
}
